{
 "cells": [
  {
   "cell_type": "code",
   "execution_count": 1,
   "id": "745439b8",
   "metadata": {},
   "outputs": [],
   "source": [
    "import pandas as pd \n",
    "import numpy as np\n",
    "import matplotlib.pyplot as plt\n",
    "import seaborn as sns"
   ]
  },
  {
   "cell_type": "code",
   "execution_count": 2,
   "id": "e6a56f79",
   "metadata": {},
   "outputs": [
    {
     "name": "stdout",
     "output_type": "stream",
     "text": [
      "<class 'pandas.core.frame.DataFrame'>\n",
      "RangeIndex: 1176 entries, 0 to 1175\n",
      "Data columns (total 20 columns):\n",
      " #   Column                 Non-Null Count  Dtype  \n",
      "---  ------                 --------------  -----  \n",
      " 0   id                     1176 non-null   float64\n",
      " 1   id_str                 1176 non-null   object \n",
      " 2   screen_name            1176 non-null   object \n",
      " 3   location               901 non-null    object \n",
      " 4   description            1007 non-null   object \n",
      " 5   url                    739 non-null    object \n",
      " 6   followers_count        1176 non-null   int64  \n",
      " 7   friends_count          1176 non-null   int64  \n",
      " 8   listedcount            1176 non-null   int64  \n",
      " 9   created_at             1176 non-null   object \n",
      " 10  favourites_count       1176 non-null   int64  \n",
      " 11  verified               1176 non-null   bool   \n",
      " 12  statuses_count         1176 non-null   int64  \n",
      " 13  lang                   1176 non-null   object \n",
      " 14  status                 1070 non-null   object \n",
      " 15  default_profile        1176 non-null   bool   \n",
      " 16  default_profile_image  1176 non-null   bool   \n",
      " 17  has_extended_profile   1136 non-null   object \n",
      " 18  name                   1176 non-null   object \n",
      " 19  bot                    1176 non-null   int64  \n",
      "dtypes: bool(3), float64(1), int64(6), object(10)\n",
      "memory usage: 159.8+ KB\n"
     ]
    }
   ],
   "source": [
    "df=pd.read_csv(\"nonbots_data.csv\",encoding='latin-1')\n",
    "df.info()"
   ]
  },
  {
   "cell_type": "code",
   "execution_count": 3,
   "id": "708083b4",
   "metadata": {},
   "outputs": [
    {
     "data": {
      "text/html": [
       "<div>\n",
       "<style scoped>\n",
       "    .dataframe tbody tr th:only-of-type {\n",
       "        vertical-align: middle;\n",
       "    }\n",
       "\n",
       "    .dataframe tbody tr th {\n",
       "        vertical-align: top;\n",
       "    }\n",
       "\n",
       "    .dataframe thead th {\n",
       "        text-align: right;\n",
       "    }\n",
       "</style>\n",
       "<table border=\"1\" class=\"dataframe\">\n",
       "  <thead>\n",
       "    <tr style=\"text-align: right;\">\n",
       "      <th></th>\n",
       "      <th>id</th>\n",
       "      <th>id_str</th>\n",
       "      <th>screen_name</th>\n",
       "      <th>location</th>\n",
       "      <th>description</th>\n",
       "      <th>url</th>\n",
       "      <th>followers_count</th>\n",
       "      <th>friends_count</th>\n",
       "      <th>listedcount</th>\n",
       "      <th>created_at</th>\n",
       "      <th>favourites_count</th>\n",
       "      <th>verified</th>\n",
       "      <th>statuses_count</th>\n",
       "      <th>lang</th>\n",
       "      <th>status</th>\n",
       "      <th>default_profile</th>\n",
       "      <th>default_profile_image</th>\n",
       "      <th>has_extended_profile</th>\n",
       "      <th>name</th>\n",
       "      <th>bot</th>\n",
       "    </tr>\n",
       "  </thead>\n",
       "  <tbody>\n",
       "    <tr>\n",
       "      <th>0</th>\n",
       "      <td>3.471604e+07</td>\n",
       "      <td>34716038</td>\n",
       "      <td>aaroncarter</td>\n",
       "      <td>Sony Recording Artist</td>\n",
       "      <td>NEW AARON CARTER MUSIC DOWNLOAD LINK LÌüVÌÇ EP...</td>\n",
       "      <td>NaN</td>\n",
       "      <td>571310</td>\n",
       "      <td>76070</td>\n",
       "      <td>4909</td>\n",
       "      <td>Thu Apr 23 20:15:49 +0000 2009</td>\n",
       "      <td>37437</td>\n",
       "      <td>True</td>\n",
       "      <td>56077</td>\n",
       "      <td>en</td>\n",
       "      <td>{u'contributors': None, u'truncated': False, u...</td>\n",
       "      <td>False</td>\n",
       "      <td>False</td>\n",
       "      <td>True</td>\n",
       "      <td>Aaron Carter</td>\n",
       "      <td>0</td>\n",
       "    </tr>\n",
       "    <tr>\n",
       "      <th>1</th>\n",
       "      <td>3.013511e+06</td>\n",
       "      <td>3013511</td>\n",
       "      <td>michellebranch</td>\n",
       "      <td>NaN</td>\n",
       "      <td>singer/songwriter, hopeless romantic, drinker ...</td>\n",
       "      <td>https://t.co/2vSKw7cmzC</td>\n",
       "      <td>292385</td>\n",
       "      <td>963</td>\n",
       "      <td>6076</td>\n",
       "      <td>Fri Mar 30 20:58:59 +0000 2007</td>\n",
       "      <td>1248</td>\n",
       "      <td>True</td>\n",
       "      <td>16688</td>\n",
       "      <td>en</td>\n",
       "      <td>{u'contributors': None, u'truncated': False, u...</td>\n",
       "      <td>False</td>\n",
       "      <td>False</td>\n",
       "      <td>False</td>\n",
       "      <td>Michelle Branch</td>\n",
       "      <td>0</td>\n",
       "    </tr>\n",
       "    <tr>\n",
       "      <th>2</th>\n",
       "      <td>5.623762e+07</td>\n",
       "      <td>56237623</td>\n",
       "      <td>stronginmyfaith</td>\n",
       "      <td>NaN</td>\n",
       "      <td>NaN</td>\n",
       "      <td>NaN</td>\n",
       "      <td>1</td>\n",
       "      <td>7</td>\n",
       "      <td>0</td>\n",
       "      <td>7/13/2009 0:38</td>\n",
       "      <td>0</td>\n",
       "      <td>False</td>\n",
       "      <td>3</td>\n",
       "      <td>en</td>\n",
       "      <td>Status(contributors=None, truncated=False, tex...</td>\n",
       "      <td>True</td>\n",
       "      <td>True</td>\n",
       "      <td>False</td>\n",
       "      <td>laurie lindeman</td>\n",
       "      <td>0</td>\n",
       "    </tr>\n",
       "    <tr>\n",
       "      <th>3</th>\n",
       "      <td>2.796428e+07</td>\n",
       "      <td>27964284</td>\n",
       "      <td>Jessicaveronica</td>\n",
       "      <td>5th Dimension</td>\n",
       "      <td>@TheVeronicas Ü  Wanderer, worshiper, if you ...</td>\n",
       "      <td>https://t.co/U6yNZoDZfu</td>\n",
       "      <td>222659</td>\n",
       "      <td>352</td>\n",
       "      <td>3261</td>\n",
       "      <td>Tue Mar 31 21:12:33 +0000 2009</td>\n",
       "      <td>143</td>\n",
       "      <td>True</td>\n",
       "      <td>10999</td>\n",
       "      <td>en</td>\n",
       "      <td>{u'contributors': None, u'truncated': False, u...</td>\n",
       "      <td>False</td>\n",
       "      <td>False</td>\n",
       "      <td>False</td>\n",
       "      <td>Jessica Veronica</td>\n",
       "      <td>0</td>\n",
       "    </tr>\n",
       "    <tr>\n",
       "      <th>4</th>\n",
       "      <td>5.528761e+08</td>\n",
       "      <td>552876065</td>\n",
       "      <td>resargento</td>\n",
       "      <td>brasil</td>\n",
       "      <td>meio ogra mas o coraí_í£o í© de mocinha</td>\n",
       "      <td>NaN</td>\n",
       "      <td>646</td>\n",
       "      <td>446</td>\n",
       "      <td>2</td>\n",
       "      <td>4/13/2012 17:37</td>\n",
       "      <td>13440</td>\n",
       "      <td>False</td>\n",
       "      <td>25292</td>\n",
       "      <td>pt</td>\n",
       "      <td>NaN</td>\n",
       "      <td>False</td>\n",
       "      <td>False</td>\n",
       "      <td>False</td>\n",
       "      <td>rebosta</td>\n",
       "      <td>0</td>\n",
       "    </tr>\n",
       "    <tr>\n",
       "      <th>...</th>\n",
       "      <td>...</td>\n",
       "      <td>...</td>\n",
       "      <td>...</td>\n",
       "      <td>...</td>\n",
       "      <td>...</td>\n",
       "      <td>...</td>\n",
       "      <td>...</td>\n",
       "      <td>...</td>\n",
       "      <td>...</td>\n",
       "      <td>...</td>\n",
       "      <td>...</td>\n",
       "      <td>...</td>\n",
       "      <td>...</td>\n",
       "      <td>...</td>\n",
       "      <td>...</td>\n",
       "      <td>...</td>\n",
       "      <td>...</td>\n",
       "      <td>...</td>\n",
       "      <td>...</td>\n",
       "      <td>...</td>\n",
       "    </tr>\n",
       "    <tr>\n",
       "      <th>95</th>\n",
       "      <td>4.845567e+07</td>\n",
       "      <td>48455672</td>\n",
       "      <td>NYUWasserman</td>\n",
       "      <td>New York, NY</td>\n",
       "      <td>NYU Wasserman Center for Career Development.  ...</td>\n",
       "      <td>http://t.co/6hjLD2IKxF</td>\n",
       "      <td>8896</td>\n",
       "      <td>417</td>\n",
       "      <td>347</td>\n",
       "      <td>6/18/2009 19:16</td>\n",
       "      <td>797</td>\n",
       "      <td>False</td>\n",
       "      <td>9936</td>\n",
       "      <td>en</td>\n",
       "      <td>Status(in_reply_to_status_id_str=None, favorit...</td>\n",
       "      <td>False</td>\n",
       "      <td>False</td>\n",
       "      <td>False</td>\n",
       "      <td>NYU Wasserman</td>\n",
       "      <td>0</td>\n",
       "    </tr>\n",
       "    <tr>\n",
       "      <th>96</th>\n",
       "      <td>3.262112e+09</td>\n",
       "      <td>3262112372</td>\n",
       "      <td>jakeborge</td>\n",
       "      <td>NaN</td>\n",
       "      <td>Mel is awesome</td>\n",
       "      <td>NaN</td>\n",
       "      <td>77</td>\n",
       "      <td>65</td>\n",
       "      <td>0</td>\n",
       "      <td>6/30/2015 19:52</td>\n",
       "      <td>22</td>\n",
       "      <td>False</td>\n",
       "      <td>17</td>\n",
       "      <td>en</td>\n",
       "      <td>{'retweet_count': 1, 'lang': 'en', 'retweeted'...</td>\n",
       "      <td>True</td>\n",
       "      <td>False</td>\n",
       "      <td>False</td>\n",
       "      <td>Jacob Borgerding</td>\n",
       "      <td>0</td>\n",
       "    </tr>\n",
       "    <tr>\n",
       "      <th>97</th>\n",
       "      <td>1.330040e+08</td>\n",
       "      <td>133004044</td>\n",
       "      <td>naihadmohan</td>\n",
       "      <td>Delhi</td>\n",
       "      <td>NaN</td>\n",
       "      <td>http://t.co/gugLO3MMMK</td>\n",
       "      <td>45</td>\n",
       "      <td>75</td>\n",
       "      <td>0</td>\n",
       "      <td>Wed Apr 14 19:21:03 +0000 2010</td>\n",
       "      <td>10</td>\n",
       "      <td>False</td>\n",
       "      <td>103</td>\n",
       "      <td>en</td>\n",
       "      <td>{'created_at': 'Tue Dec 29 06:26:03 +0000 2015...</td>\n",
       "      <td>False</td>\n",
       "      <td>False</td>\n",
       "      <td>False</td>\n",
       "      <td>Naihad Mohan</td>\n",
       "      <td>0</td>\n",
       "    </tr>\n",
       "    <tr>\n",
       "      <th>98</th>\n",
       "      <td>2.056686e+07</td>\n",
       "      <td>20566864</td>\n",
       "      <td>DJPROSTYLE</td>\n",
       "      <td>NEW YORK, NY</td>\n",
       "      <td>Radio Personality/Dj/Producer/TV/Party Animal!...</td>\n",
       "      <td>https://t.co/d0B5dgn2kC</td>\n",
       "      <td>952135</td>\n",
       "      <td>858</td>\n",
       "      <td>3161</td>\n",
       "      <td>Wed Feb 11 02:50:30 +0000 2009</td>\n",
       "      <td>2402</td>\n",
       "      <td>True</td>\n",
       "      <td>83812</td>\n",
       "      <td>en</td>\n",
       "      <td>{u'contributors': None, u'truncated': False, u...</td>\n",
       "      <td>False</td>\n",
       "      <td>False</td>\n",
       "      <td>False</td>\n",
       "      <td>PROSTYLE</td>\n",
       "      <td>0</td>\n",
       "    </tr>\n",
       "    <tr>\n",
       "      <th>99</th>\n",
       "      <td>1.658160e+07</td>\n",
       "      <td>16581604</td>\n",
       "      <td>MikeBloomberg</td>\n",
       "      <td>New York City</td>\n",
       "      <td>Entrepreneur, philanthropist, and three-term m...</td>\n",
       "      <td>http://t.co/2qsq3Fk2kb</td>\n",
       "      <td>1811013</td>\n",
       "      <td>415</td>\n",
       "      <td>11324</td>\n",
       "      <td>Fri Oct 03 18:31:59 +0000 2008</td>\n",
       "      <td>181</td>\n",
       "      <td>True</td>\n",
       "      <td>9472</td>\n",
       "      <td>en</td>\n",
       "      <td>{u'contributors': None, u'truncated': True, u'...</td>\n",
       "      <td>False</td>\n",
       "      <td>False</td>\n",
       "      <td>False</td>\n",
       "      <td>Mike Bloomberg</td>\n",
       "      <td>0</td>\n",
       "    </tr>\n",
       "  </tbody>\n",
       "</table>\n",
       "<p>100 rows × 20 columns</p>\n",
       "</div>"
      ],
      "text/plain": [
       "              id      id_str      screen_name                location  \\\n",
       "0   3.471604e+07    34716038      aaroncarter  Sony Recording Artist    \n",
       "1   3.013511e+06     3013511   michellebranch                     NaN   \n",
       "2   5.623762e+07    56237623  stronginmyfaith                     NaN   \n",
       "3   2.796428e+07    27964284  Jessicaveronica          5th Dimension    \n",
       "4   5.528761e+08   552876065       resargento                  brasil   \n",
       "..           ...         ...              ...                     ...   \n",
       "95  4.845567e+07    48455672     NYUWasserman            New York, NY   \n",
       "96  3.262112e+09  3262112372        jakeborge                     NaN   \n",
       "97  1.330040e+08   133004044      naihadmohan                   Delhi   \n",
       "98  2.056686e+07    20566864       DJPROSTYLE            NEW YORK, NY   \n",
       "99  1.658160e+07    16581604    MikeBloomberg           New York City   \n",
       "\n",
       "                                          description  \\\n",
       "0   NEW AARON CARTER MUSIC DOWNLOAD LINK LÌüVÌÇ EP...   \n",
       "1   singer/songwriter, hopeless romantic, drinker ...   \n",
       "2                                                 NaN   \n",
       "3   @TheVeronicas Ü  Wanderer, worshiper, if you ...   \n",
       "4             meio ogra mas o coraí_í£o í© de mocinha   \n",
       "..                                                ...   \n",
       "95  NYU Wasserman Center for Career Development.  ...   \n",
       "96                                     Mel is awesome   \n",
       "97                                                NaN   \n",
       "98  Radio Personality/Dj/Producer/TV/Party Animal!...   \n",
       "99  Entrepreneur, philanthropist, and three-term m...   \n",
       "\n",
       "                        url  followers_count  friends_count  listedcount  \\\n",
       "0                       NaN           571310          76070         4909   \n",
       "1   https://t.co/2vSKw7cmzC           292385            963         6076   \n",
       "2                       NaN                1              7            0   \n",
       "3   https://t.co/U6yNZoDZfu           222659            352         3261   \n",
       "4                       NaN              646            446            2   \n",
       "..                      ...              ...            ...          ...   \n",
       "95   http://t.co/6hjLD2IKxF             8896            417          347   \n",
       "96                      NaN               77             65            0   \n",
       "97   http://t.co/gugLO3MMMK               45             75            0   \n",
       "98  https://t.co/d0B5dgn2kC           952135            858         3161   \n",
       "99   http://t.co/2qsq3Fk2kb          1811013            415        11324   \n",
       "\n",
       "                        created_at  favourites_count  verified  \\\n",
       "0   Thu Apr 23 20:15:49 +0000 2009             37437      True   \n",
       "1   Fri Mar 30 20:58:59 +0000 2007              1248      True   \n",
       "2                   7/13/2009 0:38                 0     False   \n",
       "3   Tue Mar 31 21:12:33 +0000 2009               143      True   \n",
       "4                  4/13/2012 17:37             13440     False   \n",
       "..                             ...               ...       ...   \n",
       "95                 6/18/2009 19:16               797     False   \n",
       "96                 6/30/2015 19:52                22     False   \n",
       "97  Wed Apr 14 19:21:03 +0000 2010                10     False   \n",
       "98  Wed Feb 11 02:50:30 +0000 2009              2402      True   \n",
       "99  Fri Oct 03 18:31:59 +0000 2008               181      True   \n",
       "\n",
       "    statuses_count lang                                             status  \\\n",
       "0            56077   en  {u'contributors': None, u'truncated': False, u...   \n",
       "1            16688   en  {u'contributors': None, u'truncated': False, u...   \n",
       "2                3   en  Status(contributors=None, truncated=False, tex...   \n",
       "3            10999   en  {u'contributors': None, u'truncated': False, u...   \n",
       "4            25292   pt                                                NaN   \n",
       "..             ...  ...                                                ...   \n",
       "95            9936   en  Status(in_reply_to_status_id_str=None, favorit...   \n",
       "96              17   en  {'retweet_count': 1, 'lang': 'en', 'retweeted'...   \n",
       "97             103   en  {'created_at': 'Tue Dec 29 06:26:03 +0000 2015...   \n",
       "98           83812   en  {u'contributors': None, u'truncated': False, u...   \n",
       "99            9472   en  {u'contributors': None, u'truncated': True, u'...   \n",
       "\n",
       "    default_profile  default_profile_image has_extended_profile  \\\n",
       "0             False                  False                 True   \n",
       "1             False                  False                False   \n",
       "2              True                   True                False   \n",
       "3             False                  False                False   \n",
       "4             False                  False                False   \n",
       "..              ...                    ...                  ...   \n",
       "95            False                  False                False   \n",
       "96             True                  False                False   \n",
       "97            False                  False                False   \n",
       "98            False                  False                False   \n",
       "99            False                  False                False   \n",
       "\n",
       "                name  bot  \n",
       "0       Aaron Carter    0  \n",
       "1    Michelle Branch    0  \n",
       "2    laurie lindeman    0  \n",
       "3   Jessica Veronica    0  \n",
       "4            rebosta    0  \n",
       "..               ...  ...  \n",
       "95     NYU Wasserman    0  \n",
       "96  Jacob Borgerding    0  \n",
       "97      Naihad Mohan    0  \n",
       "98          PROSTYLE    0  \n",
       "99    Mike Bloomberg    0  \n",
       "\n",
       "[100 rows x 20 columns]"
      ]
     },
     "execution_count": 3,
     "metadata": {},
     "output_type": "execute_result"
    }
   ],
   "source": [
    "df.head(100)"
   ]
  },
  {
   "cell_type": "code",
   "execution_count": 4,
   "id": "93e70dfb",
   "metadata": {},
   "outputs": [],
   "source": [
    "df.drop(\"name\",axis=1,inplace=True)"
   ]
  },
  {
   "cell_type": "code",
   "execution_count": 5,
   "id": "f02e59f5",
   "metadata": {},
   "outputs": [],
   "source": [
    "df[\"default_profile\"]=df[\"default_profile\"].map({False:0,True:1})"
   ]
  },
  {
   "cell_type": "code",
   "execution_count": 6,
   "id": "8a1d19aa",
   "metadata": {},
   "outputs": [],
   "source": [
    "df[\"has_extended_profile\"]=df[\"has_extended_profile\"].map({False:0,True:1})\n",
    "df[\"default_profile_image\"]=df[\"default_profile_image\"].map({False:0,True:1})"
   ]
  },
  {
   "cell_type": "code",
   "execution_count": 7,
   "id": "a9ee44ec",
   "metadata": {},
   "outputs": [
    {
     "data": {
      "text/plain": [
       "id                         0\n",
       "id_str                     0\n",
       "screen_name                0\n",
       "location                 275\n",
       "description              169\n",
       "url                      437\n",
       "followers_count            0\n",
       "friends_count              0\n",
       "listedcount                0\n",
       "created_at                 0\n",
       "favourites_count           0\n",
       "verified                   0\n",
       "statuses_count             0\n",
       "lang                       0\n",
       "status                   106\n",
       "default_profile            0\n",
       "default_profile_image      0\n",
       "has_extended_profile      40\n",
       "bot                        0\n",
       "dtype: int64"
      ]
     },
     "execution_count": 7,
     "metadata": {},
     "output_type": "execute_result"
    }
   ],
   "source": [
    "df.isnull().sum()"
   ]
  },
  {
   "cell_type": "code",
   "execution_count": 8,
   "id": "de6a7ce5",
   "metadata": {},
   "outputs": [
    {
     "name": "stderr",
     "output_type": "stream",
     "text": [
      "C:\\ProgramData\\Anaconda3\\lib\\site-packages\\seaborn\\distributions.py:2619: FutureWarning: `distplot` is a deprecated function and will be removed in a future version. Please adapt your code to use either `displot` (a figure-level function with similar flexibility) or `histplot` (an axes-level function for histograms).\n",
      "  warnings.warn(msg, FutureWarning)\n"
     ]
    },
    {
     "data": {
      "text/plain": [
       "<AxesSubplot: xlabel='has_extended_profile', ylabel='Density'>"
      ]
     },
     "execution_count": 8,
     "metadata": {},
     "output_type": "execute_result"
    },
    {
     "data": {
      "image/png": "[encoded data removed]",
      "text/plain": [
       "<Figure size 640x480 with 1 Axes>"
      ]
     },
     "metadata": {},
     "output_type": "display_data"
    }
   ],
   "source": [
    "sns.distplot(df[\"has_extended_profile\"])"
   ]
  },
  {
   "cell_type": "code",
   "execution_count": 9,
   "id": "3dde91f5",
   "metadata": {},
   "outputs": [
    {
     "data": {
      "text/plain": [
       "0.0"
      ]
     },
     "execution_count": 9,
     "metadata": {},
     "output_type": "execute_result"
    }
   ],
   "source": [
    "df[\"has_extended_profile\"].mode()[0]"
   ]
  },
  {
   "cell_type": "code",
   "execution_count": 10,
   "id": "d16bf3fc",
   "metadata": {},
   "outputs": [],
   "source": [
    "df[\"has_extended_profile\"].fillna(df[\"has_extended_profile\"].mode()[0],inplace=True)"
   ]
  },
  {
   "cell_type": "code",
   "execution_count": 11,
   "id": "bc8929ca",
   "metadata": {},
   "outputs": [
    {
     "data": {
      "text/plain": [
       "0"
      ]
     },
     "execution_count": 11,
     "metadata": {},
     "output_type": "execute_result"
    }
   ],
   "source": [
    "df[\"has_extended_profile\"].isnull().sum()"
   ]
  },
  {
   "cell_type": "code",
   "execution_count": 12,
   "id": "2407af05",
   "metadata": {},
   "outputs": [],
   "source": [
    "df[\"has_extended_profile\"]=df[\"has_extended_profile\"].astype(int)"
   ]
  },
  {
   "cell_type": "code",
   "execution_count": 13,
   "id": "d7cdc4ae",
   "metadata": {},
   "outputs": [],
   "source": [
    "pd.set_option(\"display.max.columns\",None)"
   ]
  },
  {
   "cell_type": "code",
   "execution_count": 14,
   "id": "e0a2565d",
   "metadata": {},
   "outputs": [],
   "source": [
    "df.drop(\"url\",axis=1,inplace=True)"
   ]
  },
  {
   "cell_type": "code",
   "execution_count": 15,
   "id": "737b1df0",
   "metadata": {},
   "outputs": [],
   "source": [
    "from sklearn.preprocessing import LabelEncoder\n",
    "label_encoder=LabelEncoder()\n",
    "df[\"lang\"]=label_encoder.fit_transform(df[\"lang\"])"
   ]
  },
  {
   "cell_type": "code",
   "execution_count": 16,
   "id": "ef169775",
   "metadata": {},
   "outputs": [
    {
     "data": {
      "text/html": [
       "<div>\n",
       "<style scoped>\n",
       "    .dataframe tbody tr th:only-of-type {\n",
       "        vertical-align: middle;\n",
       "    }\n",
       "\n",
       "    .dataframe tbody tr th {\n",
       "        vertical-align: top;\n",
       "    }\n",
       "\n",
       "    .dataframe thead th {\n",
       "        text-align: right;\n",
       "    }\n",
       "</style>\n",
       "<table border=\"1\" class=\"dataframe\">\n",
       "  <thead>\n",
       "    <tr style=\"text-align: right;\">\n",
       "      <th></th>\n",
       "      <th>id</th>\n",
       "      <th>id_str</th>\n",
       "      <th>screen_name</th>\n",
       "      <th>location</th>\n",
       "      <th>description</th>\n",
       "      <th>followers_count</th>\n",
       "      <th>friends_count</th>\n",
       "      <th>listedcount</th>\n",
       "      <th>created_at</th>\n",
       "      <th>favourites_count</th>\n",
       "      <th>verified</th>\n",
       "      <th>statuses_count</th>\n",
       "      <th>lang</th>\n",
       "      <th>status</th>\n",
       "      <th>default_profile</th>\n",
       "      <th>default_profile_image</th>\n",
       "      <th>has_extended_profile</th>\n",
       "      <th>bot</th>\n",
       "    </tr>\n",
       "  </thead>\n",
       "  <tbody>\n",
       "    <tr>\n",
       "      <th>0</th>\n",
       "      <td>34716038.0</td>\n",
       "      <td>34716038</td>\n",
       "      <td>aaroncarter</td>\n",
       "      <td>Sony Recording Artist</td>\n",
       "      <td>NEW AARON CARTER MUSIC DOWNLOAD LINK LÌüVÌÇ EP...</td>\n",
       "      <td>571310</td>\n",
       "      <td>76070</td>\n",
       "      <td>4909</td>\n",
       "      <td>Thu Apr 23 20:15:49 +0000 2009</td>\n",
       "      <td>37437</td>\n",
       "      <td>True</td>\n",
       "      <td>56077</td>\n",
       "      <td>9</td>\n",
       "      <td>{u'contributors': None, u'truncated': False, u...</td>\n",
       "      <td>0</td>\n",
       "      <td>0</td>\n",
       "      <td>1</td>\n",
       "      <td>0</td>\n",
       "    </tr>\n",
       "  </tbody>\n",
       "</table>\n",
       "</div>"
      ],
      "text/plain": [
       "           id    id_str  screen_name                location  \\\n",
       "0  34716038.0  34716038  aaroncarter  Sony Recording Artist    \n",
       "\n",
       "                                         description  followers_count  \\\n",
       "0  NEW AARON CARTER MUSIC DOWNLOAD LINK LÌüVÌÇ EP...           571310   \n",
       "\n",
       "   friends_count  listedcount                      created_at  \\\n",
       "0          76070         4909  Thu Apr 23 20:15:49 +0000 2009   \n",
       "\n",
       "   favourites_count  verified  statuses_count  lang  \\\n",
       "0             37437      True           56077     9   \n",
       "\n",
       "                                              status  default_profile  \\\n",
       "0  {u'contributors': None, u'truncated': False, u...                0   \n",
       "\n",
       "   default_profile_image  has_extended_profile  bot  \n",
       "0                      0                     1    0  "
      ]
     },
     "execution_count": 16,
     "metadata": {},
     "output_type": "execute_result"
    }
   ],
   "source": [
    "df.head(1)"
   ]
  },
  {
   "cell_type": "code",
   "execution_count": 17,
   "id": "47491016",
   "metadata": {},
   "outputs": [],
   "source": [
    "df[\"verified\"]=df[\"verified\"].map({False:0,True:1})"
   ]
  },
  {
   "cell_type": "code",
   "execution_count": 18,
   "id": "3fa6c5b8",
   "metadata": {},
   "outputs": [
    {
     "name": "stdout",
     "output_type": "stream",
     "text": [
      "<class 'pandas.core.frame.DataFrame'>\n",
      "RangeIndex: 1176 entries, 0 to 1175\n",
      "Data columns (total 18 columns):\n",
      " #   Column                 Non-Null Count  Dtype  \n",
      "---  ------                 --------------  -----  \n",
      " 0   id                     1176 non-null   float64\n",
      " 1   id_str                 1176 non-null   object \n",
      " 2   screen_name            1176 non-null   object \n",
      " 3   location               901 non-null    object \n",
      " 4   description            1007 non-null   object \n",
      " 5   followers_count        1176 non-null   int64  \n",
      " 6   friends_count          1176 non-null   int64  \n",
      " 7   listedcount            1176 non-null   int64  \n",
      " 8   created_at             1176 non-null   object \n",
      " 9   favourites_count       1176 non-null   int64  \n",
      " 10  verified               1176 non-null   int64  \n",
      " 11  statuses_count         1176 non-null   int64  \n",
      " 12  lang                   1176 non-null   int32  \n",
      " 13  status                 1070 non-null   object \n",
      " 14  default_profile        1176 non-null   int64  \n",
      " 15  default_profile_image  1176 non-null   int64  \n",
      " 16  has_extended_profile   1176 non-null   int32  \n",
      " 17  bot                    1176 non-null   int64  \n",
      "dtypes: float64(1), int32(2), int64(9), object(6)\n",
      "memory usage: 156.3+ KB\n"
     ]
    }
   ],
   "source": [
    "df.info()"
   ]
  },
  {
   "cell_type": "code",
   "execution_count": 19,
   "id": "0167cc8c",
   "metadata": {},
   "outputs": [],
   "source": [
    "df.drop(\"id\",axis=1,inplace=True)"
   ]
  },
  {
   "cell_type": "code",
   "execution_count": 20,
   "id": "56787dd1",
   "metadata": {},
   "outputs": [],
   "source": [
    "df.drop(\"id_str\",axis=1,inplace=True)"
   ]
  },
  {
   "cell_type": "code",
   "execution_count": 21,
   "id": "9b5a7ea0",
   "metadata": {},
   "outputs": [
    {
     "name": "stdout",
     "output_type": "stream",
     "text": [
      "<class 'pandas.core.frame.DataFrame'>\n",
      "RangeIndex: 1176 entries, 0 to 1175\n",
      "Data columns (total 16 columns):\n",
      " #   Column                 Non-Null Count  Dtype \n",
      "---  ------                 --------------  ----- \n",
      " 0   screen_name            1176 non-null   object\n",
      " 1   location               901 non-null    object\n",
      " 2   description            1007 non-null   object\n",
      " 3   followers_count        1176 non-null   int64 \n",
      " 4   friends_count          1176 non-null   int64 \n",
      " 5   listedcount            1176 non-null   int64 \n",
      " 6   created_at             1176 non-null   object\n",
      " 7   favourites_count       1176 non-null   int64 \n",
      " 8   verified               1176 non-null   int64 \n",
      " 9   statuses_count         1176 non-null   int64 \n",
      " 10  lang                   1176 non-null   int32 \n",
      " 11  status                 1070 non-null   object\n",
      " 12  default_profile        1176 non-null   int64 \n",
      " 13  default_profile_image  1176 non-null   int64 \n",
      " 14  has_extended_profile   1176 non-null   int32 \n",
      " 15  bot                    1176 non-null   int64 \n",
      "dtypes: int32(2), int64(9), object(5)\n",
      "memory usage: 137.9+ KB\n"
     ]
    }
   ],
   "source": [
    "df.info()"
   ]
  },
  {
   "cell_type": "code",
   "execution_count": 22,
   "id": "a5b16192",
   "metadata": {},
   "outputs": [],
   "source": [
    "df.drop(\"screen_name\",axis=1,inplace=True)"
   ]
  },
  {
   "cell_type": "code",
   "execution_count": 23,
   "id": "8d79d002",
   "metadata": {},
   "outputs": [],
   "source": [
    "df.drop([\"location\",\"description\"],axis=1,inplace=True)"
   ]
  },
  {
   "cell_type": "code",
   "execution_count": 24,
   "id": "b950b880",
   "metadata": {},
   "outputs": [
    {
     "data": {
      "text/plain": [
       "0       [Thu, Apr, 23, 20:15:49, +0000, 2009]\n",
       "1       [Fri, Mar, 30, 20:58:59, +0000, 2007]\n",
       "2                           [7/13/2009, 0:38]\n",
       "3       [Tue, Mar, 31, 21:12:33, +0000, 2009]\n",
       "4                          [4/13/2012, 17:37]\n",
       "                        ...                  \n",
       "1171    [Tue, Apr, 07, 20:55:37, +0000, 2009]\n",
       "1172    [Tue, Oct, 11, 13:59:35, +0000, 2011]\n",
       "1173    [Wed, Apr, 22, 00:14:58, +0000, 2009]\n",
       "1174    [Sun, May, 24, 15:23:09, +0000, 2009]\n",
       "1175                       [12/20/2011, 7:22]\n",
       "Name: created_at, Length: 1176, dtype: object"
      ]
     },
     "execution_count": 24,
     "metadata": {},
     "output_type": "execute_result"
    }
   ],
   "source": [
    "df[\"created_at\"].str.split(\" \")"
   ]
  },
  {
   "cell_type": "code",
   "execution_count": 27,
   "id": "034435a4",
   "metadata": {},
   "outputs": [
    {
     "name": "stdout",
     "output_type": "stream",
     "text": [
      "<class 'pandas.core.frame.DataFrame'>\n",
      "RangeIndex: 1176 entries, 0 to 1175\n",
      "Data columns (total 13 columns):\n",
      " #   Column                 Non-Null Count  Dtype \n",
      "---  ------                 --------------  ----- \n",
      " 0   followers_count        1176 non-null   int64 \n",
      " 1   friends_count          1176 non-null   int64 \n",
      " 2   listedcount            1176 non-null   int64 \n",
      " 3   created_at             1176 non-null   object\n",
      " 4   favourites_count       1176 non-null   int64 \n",
      " 5   verified               1176 non-null   int64 \n",
      " 6   statuses_count         1176 non-null   int64 \n",
      " 7   lang                   1176 non-null   int32 \n",
      " 8   status                 1070 non-null   object\n",
      " 9   default_profile        1176 non-null   int64 \n",
      " 10  default_profile_image  1176 non-null   int64 \n",
      " 11  has_extended_profile   1176 non-null   int32 \n",
      " 12  bot                    1176 non-null   int64 \n",
      "dtypes: int32(2), int64(9), object(2)\n",
      "memory usage: 110.4+ KB\n"
     ]
    }
   ],
   "source": [
    "df.info()"
   ]
  },
  {
   "cell_type": "code",
   "execution_count": 28,
   "id": "d71695b1",
   "metadata": {},
   "outputs": [],
   "source": [
    "df.drop(\"status\",axis=1,inplace=True)"
   ]
  },
  {
   "cell_type": "code",
   "execution_count": 34,
   "id": "0ecdf319",
   "metadata": {},
   "outputs": [],
   "source": [
    "pd.set_option(\"display.max.rows\",None)\n",
    "df.drop(\"created_at\",axis=1,inplace=True)"
   ]
  },
  {
   "cell_type": "code",
   "execution_count": 36,
   "id": "d2e5fa96",
   "metadata": {},
   "outputs": [
    {
     "data": {
      "text/plain": [
       "followers_count          0\n",
       "friends_count            0\n",
       "listedcount              0\n",
       "favourites_count         0\n",
       "verified                 0\n",
       "statuses_count           0\n",
       "lang                     0\n",
       "default_profile          0\n",
       "default_profile_image    0\n",
       "has_extended_profile     0\n",
       "bot                      0\n",
       "dtype: int64"
      ]
     },
     "execution_count": 36,
     "metadata": {},
     "output_type": "execute_result"
    }
   ],
   "source": [
    "df.isnull().sum()"
   ]
  },
  {
   "cell_type": "code",
   "execution_count": 37,
   "id": "21c89660",
   "metadata": {},
   "outputs": [],
   "source": [
    "df.to_csv(\"Bot_data_after_cleaning\")"
   ]
  },
  {
   "cell_type": "code",
   "execution_count": null,
   "id": "2ca4c422",
   "metadata": {},
   "outputs": [],
   "source": []
  }
 ],
 "metadata": {
  "kernelspec": {
   "display_name": "Python 3 (ipykernel)",
   "language": "python",
   "name": "python3"
  },
  "language_info": {
   "codemirror_mode": {
    "name": "ipython",
    "version": 3
   },
   "file_extension": ".py",
   "mimetype": "text/x-python",
   "name": "python",
   "nbconvert_exporter": "python",
   "pygments_lexer": "ipython3",
   "version": "3.9.13"
  }
 },
 "nbformat": 4,
 "nbformat_minor": 5
}
